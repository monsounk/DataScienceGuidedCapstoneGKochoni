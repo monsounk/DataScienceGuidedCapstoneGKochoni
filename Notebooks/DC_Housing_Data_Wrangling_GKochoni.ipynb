{
 "cells": [
  {
   "cell_type": "markdown",
   "id": "b9efd217-e07f-436f-9fac-18cf003579e0",
   "metadata": {},
   "source": [
    "# Capstone - Two: Data Wrangling "
   ]
  },
  {
   "cell_type": "markdown",
   "id": "197bc8d6-6109-480c-91ec-ea972a4540b5",
   "metadata": {},
   "source": [
    "# Predicting Housing Prices in Washington, D.C.\n",
    "\n",
    "By Gbatchin Kochoni\n",
    "\n",
    "April, 2025\n"
   ]
  },
  {
   "cell_type": "markdown",
   "id": "ffe99e76-3cc6-415e-adf2-610d23641359",
   "metadata": {},
   "source": [
    "## Table of Contents\n",
    "\n",
    "1. Context and Background\n",
    "\n",
    "2. Project Goal\n",
    "\n",
    "3. Data Sources\n",
    "\n",
    "4. Data Wrangling"
   ]
  },
  {
   "cell_type": "markdown",
   "id": "3fe93a30-3a74-409c-bfe0-cf5cee968bbf",
   "metadata": {},
   "source": [
    "## 1. Context and Background\n",
    "\n",
    "Washington, D.C. is a vibrant urban area with a dynamic real estate market. Understanding and predicting property prices can provide valuable insights for buyers, sellers, real estate agents, and urban planners. The project focuses on analyzing the residential property market in D.C. using available public datasets."
   ]
  },
  {
   "cell_type": "markdown",
   "id": "85a902a3-67de-4639-9e31-51dbccaf3a03",
   "metadata": {},
   "source": [
    "## 2. Project Goal\n",
    "\n",
    "The main objective of this project is to predict the sale prices of residential properties in Washington, D.C. based on property features and characteristics. This prediction model could assist stakeholders in making informed decisions.\n",
    "\n",
    "Specific goals:\n",
    "\n",
    "- Analyze patterns and trends in property prices.\n",
    "\n",
    "- Build a predictive model with high accuracy.\n",
    "\n",
    "- Identify the most influential features affecting property prices.\n",
    "\n"
   ]
  },
  {
   "cell_type": "markdown",
   "id": "1573240e-65be-402d-b3e1-d62f31525baf",
   "metadata": {},
   "source": [
    "## 3. Data Sources\n",
    "\n",
    "The dataset used is DC_Properties.csv (download from kaggle web site [***]), containing information on residential properties in Washington, D.C., such as:\n",
    "\n",
    "- Number of rooms, bathrooms, bedrooms.\n",
    "\n",
    "- Lot area (LANDAREA).\n",
    "\n",
    "- Property condition, style, structure.\n",
    "\n",
    "- Sale price (PRICE).\n",
    "\n",
    "- Location details (ZIPCODE, WARD, QUADRANT)."
   ]
  },
  {
   "cell_type": "markdown",
   "id": "5e04f43b-4b6f-482a-9aa0-2aba0eed03e4",
   "metadata": {},
   "source": [
    "## 4. Data Wrangling\n",
    "\n",
    "Key cleaning and preparation steps included:\n",
    "\n",
    "- Dropping irrelevant columns (e.g., identifiers, coordinates not directly useful).\n",
    "\n",
    "- Filtering to keep only properties with a positive sale price.\n",
    "\n",
    "- Removing duplicate entries.\n",
    "\n",
    "- Handling missing values (planned during feature engineering)."
   ]
  },
  {
   "cell_type": "code",
   "execution_count": 8,
   "id": "bbbce39a",
   "metadata": {},
   "outputs": [],
   "source": [
    "\n",
    "# Import necessary libraries\n",
    "import pandas as pd\n",
    "import matplotlib.pyplot as plt\n",
    "import seaborn as sns\n"
   ]
  },
  {
   "cell_type": "code",
   "execution_count": 9,
   "id": "793e78b3",
   "metadata": {},
   "outputs": [
    {
     "data": {
      "text/html": [
       "<div>\n",
       "<style scoped>\n",
       "    .dataframe tbody tr th:only-of-type {\n",
       "        vertical-align: middle;\n",
       "    }\n",
       "\n",
       "    .dataframe tbody tr th {\n",
       "        vertical-align: top;\n",
       "    }\n",
       "\n",
       "    .dataframe thead th {\n",
       "        text-align: right;\n",
       "    }\n",
       "</style>\n",
       "<table border=\"1\" class=\"dataframe\">\n",
       "  <thead>\n",
       "    <tr style=\"text-align: right;\">\n",
       "      <th></th>\n",
       "      <th>Unnamed: 0</th>\n",
       "      <th>BATHRM</th>\n",
       "      <th>HF_BATHRM</th>\n",
       "      <th>HEAT</th>\n",
       "      <th>AC</th>\n",
       "      <th>NUM_UNITS</th>\n",
       "      <th>ROOMS</th>\n",
       "      <th>BEDRM</th>\n",
       "      <th>AYB</th>\n",
       "      <th>YR_RMDL</th>\n",
       "      <th>...</th>\n",
       "      <th>LONGITUDE</th>\n",
       "      <th>ASSESSMENT_NBHD</th>\n",
       "      <th>ASSESSMENT_SUBNBHD</th>\n",
       "      <th>CENSUS_TRACT</th>\n",
       "      <th>CENSUS_BLOCK</th>\n",
       "      <th>WARD</th>\n",
       "      <th>SQUARE</th>\n",
       "      <th>X</th>\n",
       "      <th>Y</th>\n",
       "      <th>QUADRANT</th>\n",
       "    </tr>\n",
       "  </thead>\n",
       "  <tbody>\n",
       "    <tr>\n",
       "      <th>0</th>\n",
       "      <td>0</td>\n",
       "      <td>4</td>\n",
       "      <td>0</td>\n",
       "      <td>Warm Cool</td>\n",
       "      <td>Y</td>\n",
       "      <td>2.0</td>\n",
       "      <td>8</td>\n",
       "      <td>4</td>\n",
       "      <td>1910.0</td>\n",
       "      <td>1988.0</td>\n",
       "      <td>...</td>\n",
       "      <td>-77.040832</td>\n",
       "      <td>Old City 2</td>\n",
       "      <td>040 D Old City 2</td>\n",
       "      <td>4201.0</td>\n",
       "      <td>004201 2006</td>\n",
       "      <td>Ward 2</td>\n",
       "      <td>0152</td>\n",
       "      <td>-77.040429</td>\n",
       "      <td>38.914881</td>\n",
       "      <td>NW</td>\n",
       "    </tr>\n",
       "    <tr>\n",
       "      <th>1</th>\n",
       "      <td>1</td>\n",
       "      <td>3</td>\n",
       "      <td>1</td>\n",
       "      <td>Warm Cool</td>\n",
       "      <td>Y</td>\n",
       "      <td>2.0</td>\n",
       "      <td>11</td>\n",
       "      <td>5</td>\n",
       "      <td>1898.0</td>\n",
       "      <td>2007.0</td>\n",
       "      <td>...</td>\n",
       "      <td>-77.040764</td>\n",
       "      <td>Old City 2</td>\n",
       "      <td>040 D Old City 2</td>\n",
       "      <td>4201.0</td>\n",
       "      <td>004201 2006</td>\n",
       "      <td>Ward 2</td>\n",
       "      <td>0152</td>\n",
       "      <td>-77.040429</td>\n",
       "      <td>38.914881</td>\n",
       "      <td>NW</td>\n",
       "    </tr>\n",
       "    <tr>\n",
       "      <th>2</th>\n",
       "      <td>2</td>\n",
       "      <td>3</td>\n",
       "      <td>1</td>\n",
       "      <td>Hot Water Rad</td>\n",
       "      <td>Y</td>\n",
       "      <td>2.0</td>\n",
       "      <td>9</td>\n",
       "      <td>5</td>\n",
       "      <td>1910.0</td>\n",
       "      <td>2009.0</td>\n",
       "      <td>...</td>\n",
       "      <td>-77.040678</td>\n",
       "      <td>Old City 2</td>\n",
       "      <td>040 D Old City 2</td>\n",
       "      <td>4201.0</td>\n",
       "      <td>004201 2006</td>\n",
       "      <td>Ward 2</td>\n",
       "      <td>0152</td>\n",
       "      <td>-77.040429</td>\n",
       "      <td>38.914881</td>\n",
       "      <td>NW</td>\n",
       "    </tr>\n",
       "    <tr>\n",
       "      <th>3</th>\n",
       "      <td>3</td>\n",
       "      <td>3</td>\n",
       "      <td>1</td>\n",
       "      <td>Hot Water Rad</td>\n",
       "      <td>Y</td>\n",
       "      <td>2.0</td>\n",
       "      <td>8</td>\n",
       "      <td>5</td>\n",
       "      <td>1900.0</td>\n",
       "      <td>2003.0</td>\n",
       "      <td>...</td>\n",
       "      <td>-77.040629</td>\n",
       "      <td>Old City 2</td>\n",
       "      <td>040 D Old City 2</td>\n",
       "      <td>4201.0</td>\n",
       "      <td>004201 2006</td>\n",
       "      <td>Ward 2</td>\n",
       "      <td>0152</td>\n",
       "      <td>-77.040429</td>\n",
       "      <td>38.914881</td>\n",
       "      <td>NW</td>\n",
       "    </tr>\n",
       "    <tr>\n",
       "      <th>4</th>\n",
       "      <td>4</td>\n",
       "      <td>2</td>\n",
       "      <td>1</td>\n",
       "      <td>Warm Cool</td>\n",
       "      <td>Y</td>\n",
       "      <td>1.0</td>\n",
       "      <td>11</td>\n",
       "      <td>3</td>\n",
       "      <td>1913.0</td>\n",
       "      <td>2012.0</td>\n",
       "      <td>...</td>\n",
       "      <td>-77.039361</td>\n",
       "      <td>Old City 2</td>\n",
       "      <td>040 D Old City 2</td>\n",
       "      <td>4201.0</td>\n",
       "      <td>004201 2006</td>\n",
       "      <td>Ward 2</td>\n",
       "      <td>0152</td>\n",
       "      <td>-77.040429</td>\n",
       "      <td>38.914881</td>\n",
       "      <td>NW</td>\n",
       "    </tr>\n",
       "  </tbody>\n",
       "</table>\n",
       "<p>5 rows × 49 columns</p>\n",
       "</div>"
      ],
      "text/plain": [
       "   Unnamed: 0  BATHRM  HF_BATHRM           HEAT AC  NUM_UNITS  ROOMS  BEDRM  \\\n",
       "0           0       4          0      Warm Cool  Y        2.0      8      4   \n",
       "1           1       3          1      Warm Cool  Y        2.0     11      5   \n",
       "2           2       3          1  Hot Water Rad  Y        2.0      9      5   \n",
       "3           3       3          1  Hot Water Rad  Y        2.0      8      5   \n",
       "4           4       2          1      Warm Cool  Y        1.0     11      3   \n",
       "\n",
       "      AYB  YR_RMDL  ...  LONGITUDE  ASSESSMENT_NBHD ASSESSMENT_SUBNBHD  \\\n",
       "0  1910.0   1988.0  ... -77.040832       Old City 2   040 D Old City 2   \n",
       "1  1898.0   2007.0  ... -77.040764       Old City 2   040 D Old City 2   \n",
       "2  1910.0   2009.0  ... -77.040678       Old City 2   040 D Old City 2   \n",
       "3  1900.0   2003.0  ... -77.040629       Old City 2   040 D Old City 2   \n",
       "4  1913.0   2012.0  ... -77.039361       Old City 2   040 D Old City 2   \n",
       "\n",
       "   CENSUS_TRACT CENSUS_BLOCK    WARD  SQUARE          X          Y QUADRANT  \n",
       "0        4201.0  004201 2006  Ward 2    0152 -77.040429  38.914881       NW  \n",
       "1        4201.0  004201 2006  Ward 2    0152 -77.040429  38.914881       NW  \n",
       "2        4201.0  004201 2006  Ward 2    0152 -77.040429  38.914881       NW  \n",
       "3        4201.0  004201 2006  Ward 2    0152 -77.040429  38.914881       NW  \n",
       "4        4201.0  004201 2006  Ward 2    0152 -77.040429  38.914881       NW  \n",
       "\n",
       "[5 rows x 49 columns]"
      ]
     },
     "execution_count": 9,
     "metadata": {},
     "output_type": "execute_result"
    }
   ],
   "source": [
    "\n",
    "# Load the dataset\n",
    "df_properties = pd.read_csv('DC_Properties.csv', low_memory=False)\n",
    "\n",
    "# Display the first few rows\n",
    "df_properties.head()\n"
   ]
  },
  {
   "cell_type": "markdown",
   "id": "b1558006",
   "metadata": {},
   "source": [
    "\n",
    "# Data Wrangling\n",
    "Cleaning and preparing the dataset for analysis.\n"
   ]
  },
  {
   "cell_type": "code",
   "execution_count": 11,
   "id": "ea141685-e49d-4ba0-8519-5f34ae0611c4",
   "metadata": {},
   "outputs": [
    {
     "name": "stdout",
     "output_type": "stream",
     "text": [
      "<class 'pandas.core.frame.DataFrame'>\n",
      "RangeIndex: 158957 entries, 0 to 158956\n",
      "Data columns (total 49 columns):\n",
      " #   Column              Non-Null Count   Dtype  \n",
      "---  ------              --------------   -----  \n",
      " 0   Unnamed: 0          158957 non-null  int64  \n",
      " 1   BATHRM              158957 non-null  int64  \n",
      " 2   HF_BATHRM           158957 non-null  int64  \n",
      " 3   HEAT                158957 non-null  object \n",
      " 4   AC                  158957 non-null  object \n",
      " 5   NUM_UNITS           106696 non-null  float64\n",
      " 6   ROOMS               158957 non-null  int64  \n",
      " 7   BEDRM               158957 non-null  int64  \n",
      " 8   AYB                 158686 non-null  float64\n",
      " 9   YR_RMDL             80928 non-null   float64\n",
      " 10  EYB                 158957 non-null  int64  \n",
      " 11  STORIES             106652 non-null  float64\n",
      " 12  SALEDATE            132187 non-null  object \n",
      " 13  PRICE               98216 non-null   float64\n",
      " 14  QUALIFIED           158957 non-null  object \n",
      " 15  SALE_NUM            158957 non-null  int64  \n",
      " 16  GBA                 106696 non-null  float64\n",
      " 17  BLDG_NUM            158957 non-null  int64  \n",
      " 18  STYLE               106696 non-null  object \n",
      " 19  STRUCT              106696 non-null  object \n",
      " 20  GRADE               106696 non-null  object \n",
      " 21  CNDTN               106696 non-null  object \n",
      " 22  EXTWALL             106696 non-null  object \n",
      " 23  ROOF                106696 non-null  object \n",
      " 24  INTWALL             106696 non-null  object \n",
      " 25  KITCHENS            106695 non-null  float64\n",
      " 26  FIREPLACES          158957 non-null  int64  \n",
      " 27  USECODE             158957 non-null  int64  \n",
      " 28  LANDAREA            158957 non-null  int64  \n",
      " 29  GIS_LAST_MOD_DTTM   158957 non-null  object \n",
      " 30  SOURCE              158957 non-null  object \n",
      " 31  CMPLX_NUM           52261 non-null   float64\n",
      " 32  LIVING_GBA          52261 non-null   float64\n",
      " 33  FULLADDRESS         106040 non-null  object \n",
      " 34  CITY                106051 non-null  object \n",
      " 35  STATE               106051 non-null  object \n",
      " 36  ZIPCODE             158956 non-null  float64\n",
      " 37  NATIONALGRID        106051 non-null  object \n",
      " 38  LATITUDE            158956 non-null  float64\n",
      " 39  LONGITUDE           158956 non-null  float64\n",
      " 40  ASSESSMENT_NBHD     158956 non-null  object \n",
      " 41  ASSESSMENT_SUBNBHD  126406 non-null  object \n",
      " 42  CENSUS_TRACT        158956 non-null  float64\n",
      " 43  CENSUS_BLOCK        106051 non-null  object \n",
      " 44  WARD                158956 non-null  object \n",
      " 45  SQUARE              158957 non-null  object \n",
      " 46  X                   158720 non-null  float64\n",
      " 47  Y                   158720 non-null  float64\n",
      " 48  QUADRANT            158720 non-null  object \n",
      "dtypes: float64(15), int64(11), object(23)\n",
      "memory usage: 59.4+ MB\n"
     ]
    }
   ],
   "source": [
    "# Brief summary information about the DataFrame\n",
    "df_properties.info()"
   ]
  },
  {
   "cell_type": "code",
   "execution_count": 12,
   "id": "ea5e5902-acee-499a-ac06-5334b4f684bf",
   "metadata": {},
   "outputs": [
    {
     "name": "stdout",
     "output_type": "stream",
     "text": [
      "Shape befor cleaning: (158957, 49)\n"
     ]
    }
   ],
   "source": [
    "# Shape of the dataframe befor cleaning\n",
    "print(\"Shape befor cleaning:\", df_properties.shape)"
   ]
  },
  {
   "cell_type": "code",
   "execution_count": 13,
   "id": "64d33854",
   "metadata": {},
   "outputs": [],
   "source": [
    "# Drop unnecessary columns\n",
    "cols_to_drop = [\n",
    "    'Unnamed: 0', 'SOURCE', 'CMPLX_NUM', 'GIS_LAST_MOD_DTTM', \n",
    "    'SQUARE', 'X', 'Y', 'NATIONALGRID'\n",
    "]\n",
    "df = df_properties.drop(columns=cols_to_drop, errors='ignore')"
   ]
  },
  {
   "cell_type": "code",
   "execution_count": 14,
   "id": "ae520c92-65a7-4dca-a405-8089dc51fcf0",
   "metadata": {},
   "outputs": [],
   "source": [
    "# Filter only rows where price is strictly positive\n",
    "df = df[df['PRICE'] > 0]"
   ]
  },
  {
   "cell_type": "code",
   "execution_count": 15,
   "id": "1c132b16-fcfc-4469-b2df-b0be47e98f20",
   "metadata": {},
   "outputs": [],
   "source": [
    "# Remove duplicates\n",
    "df = df.drop_duplicates()"
   ]
  },
  {
   "cell_type": "code",
   "execution_count": 16,
   "id": "6f3f15ac-4c6c-4c95-ae44-17305d4ff084",
   "metadata": {},
   "outputs": [
    {
     "name": "stdout",
     "output_type": "stream",
     "text": [
      "Shape after cleaning: (97832, 41)\n"
     ]
    }
   ],
   "source": [
    "# Shape of the dataframe after cleaning\n",
    "print(\"Shape after cleaning:\", df.shape)"
   ]
  },
  {
   "cell_type": "code",
   "execution_count": 17,
   "id": "e4932dc6-8281-42b9-93e5-f3b648ef2487",
   "metadata": {},
   "outputs": [
    {
     "data": {
      "text/plain": [
       "NUM_UNITS             39933\n",
       "AYB                     112\n",
       "YR_RMDL               40410\n",
       "STORIES               39966\n",
       "SALEDATE                  1\n",
       "GBA                   39933\n",
       "STYLE                 39933\n",
       "STRUCT                39933\n",
       "GRADE                 39933\n",
       "CNDTN                 39933\n",
       "EXTWALL               39933\n",
       "ROOF                  39933\n",
       "INTWALL               39933\n",
       "KITCHENS              39934\n",
       "LIVING_GBA            57899\n",
       "FULLADDRESS           40267\n",
       "CITY                  40263\n",
       "STATE                 40263\n",
       "ASSESSMENT_SUBNBHD    20039\n",
       "CENSUS_BLOCK          40263\n",
       "QUADRANT                101\n",
       "dtype: int64"
      ]
     },
     "execution_count": 17,
     "metadata": {},
     "output_type": "execute_result"
    }
   ],
   "source": [
    "# Display missing values\n",
    "missing_values = df.isnull().sum()\n",
    "missing_values = missing_values[missing_values > 0]\n",
    "missing_values"
   ]
  },
  {
   "cell_type": "markdown",
   "id": "64c5986a-5c45-4362-90a4-5385e5abc4bf",
   "metadata": {},
   "source": [
    "**Data wrangling is completed. We have:**\n",
    "- Dimensions after cleaning: 97,832 rows × 41 columns.\n",
    "- The selling price (PRICE) is always positive.\n",
    "- Columns with missing values: Yes, approximately 20 to 40% in some columns such as NUMBER_UNITS, QUALITY, STRUCTURE, LIVING_AREA, etc."
   ]
  },
  {
   "cell_type": "markdown",
   "id": "dd440d77-1c8e-4fe2-98f3-d840f0af64b8",
   "metadata": {},
   "source": [
    "**The dataset is now ready for exploration in the next steps, although we recognize that some columns still have missing values, which can be addressed during the EDA and/or Feature Engineering phases.**"
   ]
  },
  {
   "cell_type": "code",
   "execution_count": null,
   "id": "71b23224-fad6-4362-9519-bb81be11ecd2",
   "metadata": {},
   "outputs": [],
   "source": []
  }
 ],
 "metadata": {
  "kernelspec": {
   "display_name": "Python [conda env:base] *",
   "language": "python",
   "name": "conda-base-py"
  },
  "language_info": {
   "codemirror_mode": {
    "name": "ipython",
    "version": 3
   },
   "file_extension": ".py",
   "mimetype": "text/x-python",
   "name": "python",
   "nbconvert_exporter": "python",
   "pygments_lexer": "ipython3",
   "version": "3.12.3"
  }
 },
 "nbformat": 4,
 "nbformat_minor": 5
}
