{
 "cells": [
  {
   "cell_type": "markdown",
   "id": "02899909",
   "metadata": {},
   "source": [
    "# Data Storytelling\n",
    "\n",
    "# Arlington Housing Price Prediction Data Wrangling and Storytelling \n",
    "                                                                                                             By Gbatchin Kochoni"
   ]
  },
  {
   "cell_type": "markdown",
   "id": "d20a61f7",
   "metadata": {},
   "source": [
    "## Exploring Home Price Trends in Arlington, VA\n",
    "\n",
    "### Objective\n",
    "To explore and visualize the historical housing price data for Arlington, Virginia using Zillow All Homes dataset, with the goal of identifying key trends and insights that inform investment or policy decisions.\n",
    "\n",
    "### Key Questions\n",
    "- How have home prices in Arlington evolved over time?\n",
    "- Are there seasonal or structural trends in the data?\n",
    "- What hypotheses can we make about future housing prices?\n",
    "\n",
    "### Hypothesis\n",
    "We hypothesize that Arlington has experienced consistent growth in housing prices since 2015, with possible seasonal variations.\n"
   ]
  },
  {
   "cell_type": "markdown",
   "id": "e56e94b7-779a-4616-89c0-027cfc4d5996",
   "metadata": {},
   "source": [
    "#### Content\n",
    "1. Introduction\n",
    "2. Importing necessary libraries\n",
    "3. Data Acquisition\n",
    "4. Data wrangling"
   ]
  },
  {
   "cell_type": "markdown",
   "id": "1f0ce492-6ca1-4668-a48e-82dedca30036",
   "metadata": {},
   "source": [
    "#### 1. Introduction\n",
    "\n",
    "##### 1.1 Context\n",
    "\n",
    "The housing market in Arlington, Virginia, is highly dynamic, influenced by its proximity to Washington, D.C., substantial employment opportunities, and ongoing urban development. The region’s rising home prices and rapid gentrification have drawn interest from prospective homeowners, investors, and policymakers. Understanding and anticipating housing price trends is crucial for making informed real estate decisions, allocating public resources, and planning urban infrastructure.\n",
    "\n",
    "##### 1.2 Project Goal\n",
    "\n",
    "This project aims to develop a predictive model for estimating residential home prices in Arlington, Virginia. The model will identify key features influencing home values and forecast future prices using machine learning techniques.\n"
   ]
  },
  {
   "cell_type": "markdown",
   "id": "8cf4efb3-418c-4a3f-b7cf-9c10251e82e9",
   "metadata": {},
   "source": [
    "#### 2. Importing necessary libraries"
   ]
  },
  {
   "cell_type": "code",
   "execution_count": 5,
   "id": "27f27126",
   "metadata": {},
   "outputs": [],
   "source": [
    "# Importing libraries\n",
    "import pandas as pd\n",
    "import matplotlib.pyplot as plt\n"
   ]
  },
  {
   "cell_type": "markdown",
   "id": "1246df59-88c9-4301-8f48-4999236e9170",
   "metadata": {},
   "source": [
    "#### 3 Data Acquisition"
   ]
  },
  {
   "cell_type": "code",
   "execution_count": 7,
   "id": "1f0a8fed",
   "metadata": {},
   "outputs": [
    {
     "name": "stdout",
     "output_type": "stream",
     "text": [
      "Initial data preview:\n"
     ]
    },
    {
     "data": {
      "text/html": [
       "<div>\n",
       "<style scoped>\n",
       "    .dataframe tbody tr th:only-of-type {\n",
       "        vertical-align: middle;\n",
       "    }\n",
       "\n",
       "    .dataframe tbody tr th {\n",
       "        vertical-align: top;\n",
       "    }\n",
       "\n",
       "    .dataframe thead th {\n",
       "        text-align: right;\n",
       "    }\n",
       "</style>\n",
       "<table border=\"1\" class=\"dataframe\">\n",
       "  <thead>\n",
       "    <tr style=\"text-align: right;\">\n",
       "      <th></th>\n",
       "      <th>RegionID</th>\n",
       "      <th>RegionName</th>\n",
       "      <th>State</th>\n",
       "      <th>Metro</th>\n",
       "      <th>CountyName</th>\n",
       "      <th>SizeRank</th>\n",
       "      <th>1996-04</th>\n",
       "      <th>1996-05</th>\n",
       "      <th>1996-06</th>\n",
       "      <th>1996-07</th>\n",
       "      <th>...</th>\n",
       "      <th>2015-11</th>\n",
       "      <th>2015-12</th>\n",
       "      <th>2016-01</th>\n",
       "      <th>2016-02</th>\n",
       "      <th>2016-03</th>\n",
       "      <th>2016-04</th>\n",
       "      <th>2016-05</th>\n",
       "      <th>2016-06</th>\n",
       "      <th>2016-07</th>\n",
       "      <th>2016-08</th>\n",
       "    </tr>\n",
       "  </thead>\n",
       "  <tbody>\n",
       "    <tr>\n",
       "      <th>0</th>\n",
       "      <td>6181</td>\n",
       "      <td>New York</td>\n",
       "      <td>NY</td>\n",
       "      <td>New York</td>\n",
       "      <td>Queens</td>\n",
       "      <td>1</td>\n",
       "      <td>NaN</td>\n",
       "      <td>NaN</td>\n",
       "      <td>NaN</td>\n",
       "      <td>NaN</td>\n",
       "      <td>...</td>\n",
       "      <td>573600</td>\n",
       "      <td>576200</td>\n",
       "      <td>578400</td>\n",
       "      <td>582200</td>\n",
       "      <td>588000</td>\n",
       "      <td>592200</td>\n",
       "      <td>592500</td>\n",
       "      <td>590200</td>\n",
       "      <td>588000</td>\n",
       "      <td>586400</td>\n",
       "    </tr>\n",
       "    <tr>\n",
       "      <th>1</th>\n",
       "      <td>12447</td>\n",
       "      <td>Los Angeles</td>\n",
       "      <td>CA</td>\n",
       "      <td>Los Angeles-Long Beach-Anaheim</td>\n",
       "      <td>Los Angeles</td>\n",
       "      <td>2</td>\n",
       "      <td>155000.0</td>\n",
       "      <td>154600.0</td>\n",
       "      <td>154400.0</td>\n",
       "      <td>154200.0</td>\n",
       "      <td>...</td>\n",
       "      <td>558200</td>\n",
       "      <td>560800</td>\n",
       "      <td>562800</td>\n",
       "      <td>565600</td>\n",
       "      <td>569700</td>\n",
       "      <td>574000</td>\n",
       "      <td>577800</td>\n",
       "      <td>580600</td>\n",
       "      <td>583000</td>\n",
       "      <td>585100</td>\n",
       "    </tr>\n",
       "    <tr>\n",
       "      <th>2</th>\n",
       "      <td>17426</td>\n",
       "      <td>Chicago</td>\n",
       "      <td>IL</td>\n",
       "      <td>Chicago</td>\n",
       "      <td>Cook</td>\n",
       "      <td>3</td>\n",
       "      <td>109700.0</td>\n",
       "      <td>109400.0</td>\n",
       "      <td>109300.0</td>\n",
       "      <td>109300.0</td>\n",
       "      <td>...</td>\n",
       "      <td>207800</td>\n",
       "      <td>206900</td>\n",
       "      <td>206200</td>\n",
       "      <td>205800</td>\n",
       "      <td>206200</td>\n",
       "      <td>207300</td>\n",
       "      <td>208200</td>\n",
       "      <td>209100</td>\n",
       "      <td>211000</td>\n",
       "      <td>213000</td>\n",
       "    </tr>\n",
       "    <tr>\n",
       "      <th>3</th>\n",
       "      <td>13271</td>\n",
       "      <td>Philadelphia</td>\n",
       "      <td>PA</td>\n",
       "      <td>Philadelphia</td>\n",
       "      <td>Philadelphia</td>\n",
       "      <td>4</td>\n",
       "      <td>50000.0</td>\n",
       "      <td>49900.0</td>\n",
       "      <td>49600.0</td>\n",
       "      <td>49400.0</td>\n",
       "      <td>...</td>\n",
       "      <td>122300</td>\n",
       "      <td>121600</td>\n",
       "      <td>121800</td>\n",
       "      <td>123300</td>\n",
       "      <td>125200</td>\n",
       "      <td>126400</td>\n",
       "      <td>127000</td>\n",
       "      <td>127400</td>\n",
       "      <td>128300</td>\n",
       "      <td>129100</td>\n",
       "    </tr>\n",
       "    <tr>\n",
       "      <th>4</th>\n",
       "      <td>40326</td>\n",
       "      <td>Phoenix</td>\n",
       "      <td>AZ</td>\n",
       "      <td>Phoenix</td>\n",
       "      <td>Maricopa</td>\n",
       "      <td>5</td>\n",
       "      <td>87200.0</td>\n",
       "      <td>87700.0</td>\n",
       "      <td>88200.0</td>\n",
       "      <td>88400.0</td>\n",
       "      <td>...</td>\n",
       "      <td>183800</td>\n",
       "      <td>185300</td>\n",
       "      <td>186600</td>\n",
       "      <td>188000</td>\n",
       "      <td>189100</td>\n",
       "      <td>190200</td>\n",
       "      <td>191300</td>\n",
       "      <td>192800</td>\n",
       "      <td>194500</td>\n",
       "      <td>195900</td>\n",
       "    </tr>\n",
       "  </tbody>\n",
       "</table>\n",
       "<p>5 rows × 251 columns</p>\n",
       "</div>"
      ],
      "text/plain": [
       "   RegionID    RegionName State                           Metro    CountyName  \\\n",
       "0      6181      New York    NY                        New York        Queens   \n",
       "1     12447   Los Angeles    CA  Los Angeles-Long Beach-Anaheim   Los Angeles   \n",
       "2     17426       Chicago    IL                         Chicago          Cook   \n",
       "3     13271  Philadelphia    PA                    Philadelphia  Philadelphia   \n",
       "4     40326       Phoenix    AZ                         Phoenix      Maricopa   \n",
       "\n",
       "   SizeRank   1996-04   1996-05   1996-06   1996-07  ...  2015-11  2015-12  \\\n",
       "0         1       NaN       NaN       NaN       NaN  ...   573600   576200   \n",
       "1         2  155000.0  154600.0  154400.0  154200.0  ...   558200   560800   \n",
       "2         3  109700.0  109400.0  109300.0  109300.0  ...   207800   206900   \n",
       "3         4   50000.0   49900.0   49600.0   49400.0  ...   122300   121600   \n",
       "4         5   87200.0   87700.0   88200.0   88400.0  ...   183800   185300   \n",
       "\n",
       "   2016-01  2016-02  2016-03  2016-04  2016-05  2016-06  2016-07  2016-08  \n",
       "0   578400   582200   588000   592200   592500   590200   588000   586400  \n",
       "1   562800   565600   569700   574000   577800   580600   583000   585100  \n",
       "2   206200   205800   206200   207300   208200   209100   211000   213000  \n",
       "3   121800   123300   125200   126400   127000   127400   128300   129100  \n",
       "4   186600   188000   189100   190200   191300   192800   194500   195900  \n",
       "\n",
       "[5 rows x 251 columns]"
      ]
     },
     "execution_count": 7,
     "metadata": {},
     "output_type": "execute_result"
    }
   ],
   "source": [
    "# 3.1 Reading the raw file\n",
    "\n",
    "# Load the dataset\n",
    "df = pd.read_csv('City_Zhvi_AllHomes.csv')\n",
    "\n",
    "# 3.2 Initial data preview\n",
    "print(\"Initial data preview:\")\n",
    "df.head()\n"
   ]
  },
  {
   "cell_type": "markdown",
   "id": "9efaf5c0-2162-44e8-a586-ea94db9cc7f8",
   "metadata": {},
   "source": [
    "#### 4. Data Wrangling"
   ]
  },
  {
   "cell_type": "code",
   "execution_count": 9,
   "id": "4cf4b3fa-3249-4efc-9b1b-ab1890f79788",
   "metadata": {},
   "outputs": [
    {
     "name": "stdout",
     "output_type": "stream",
     "text": [
      "<class 'pandas.core.frame.DataFrame'>\n",
      "RangeIndex: 10730 entries, 0 to 10729\n",
      "Columns: 251 entries, RegionID to 2016-08\n",
      "dtypes: float64(201), int64(46), object(4)\n",
      "memory usage: 20.5+ MB\n"
     ]
    }
   ],
   "source": [
    "# 4.1 Quick overview of the dataset\n",
    "info = df.info()\n",
    "info"
   ]
  },
  {
   "cell_type": "markdown",
   "id": "bfab4a00-bb9d-491d-b53e-f3ab29fc96a2",
   "metadata": {},
   "source": [
    "We found :\n",
    "\n",
    "- **Rows**: 10,730\n",
    "\n",
    "- **Columns**: 251\n",
    "\n",
    "- **Types**:\n",
    "\n",
    "    - 4 columns are object (text), mainly **RegionID, RegionName, State, Metro, CountyName**.\n",
    "\n",
    "    - 46 columns are int64.\n",
    "\n",
    "    - 201 columns are float64 (mostly the price data by month from 1996-04 to 2016-08)."
   ]
  },
  {
   "cell_type": "code",
   "execution_count": 11,
   "id": "5243bb77-dacf-420a-8550-34f403d7c21e",
   "metadata": {},
   "outputs": [
    {
     "data": {
      "text/plain": [
       "RegionID        0\n",
       "RegionName      0\n",
       "State           0\n",
       "Metro         471\n",
       "CountyName      0\n",
       "             ... \n",
       "2016-04         0\n",
       "2016-05         0\n",
       "2016-06         0\n",
       "2016-07         0\n",
       "2016-08         0\n",
       "Length: 251, dtype: int64"
      ]
     },
     "execution_count": 11,
     "metadata": {},
     "output_type": "execute_result"
    }
   ],
   "source": [
    "# 4.2 Checking missing values\n",
    "missing_values = df.isnull().sum()\n",
    "missing_values"
   ]
  },
  {
   "cell_type": "markdown",
   "id": "200af71a-36e5-4ad3-925b-2f3f9c6f8ec6",
   "metadata": {},
   "source": [
    "- **Missing values**:\n",
    "\n",
    "    - The Metro column has **471 missing values**.\n",
    "\n",
    "    - Many of the early date columns (especially 1996-1998) have missing home price values (which makes sense for cities with incomplete early data)."
   ]
  },
  {
   "cell_type": "markdown",
   "id": "e6257ad0-07e5-47e2-ac10-f72d8cdc4629",
   "metadata": {},
   "source": [
    "Before dealing with this missing values, let's check if Arlington, Virginia (VA) is present in this file and extract that specific data"
   ]
  },
  {
   "cell_type": "code",
   "execution_count": 14,
   "id": "f65b230b",
   "metadata": {},
   "outputs": [
    {
     "name": "stdout",
     "output_type": "stream",
     "text": [
      "Number of records for Arlington, VA: 1\n"
     ]
    }
   ],
   "source": [
    "# 4.3 Extracting specific data for Arlington, VA\n",
    "\n",
    "arlington_df = df[(df['RegionName'].str.upper() == 'ARLINGTON') & (df['State'] == 'VA')].copy()\n",
    "\n",
    "print(f\"Number of records for Arlington, VA: {arlington_df.shape[0]}\")\n"
   ]
  },
  {
   "cell_type": "code",
   "execution_count": 15,
   "id": "c794353c-4791-427f-be10-6b48199d29cc",
   "metadata": {},
   "outputs": [
    {
     "data": {
      "text/plain": [
       "Index(['RegionID', 'RegionName', 'State', 'Metro', 'CountyName', 'SizeRank',\n",
       "       '1996-04', '1996-05', '1996-06', '1996-07',\n",
       "       ...\n",
       "       '2015-11', '2015-12', '2016-01', '2016-02', '2016-03', '2016-04',\n",
       "       '2016-05', '2016-06', '2016-07', '2016-08'],\n",
       "      dtype='object', length=251)"
      ]
     },
     "execution_count": 15,
     "metadata": {},
     "output_type": "execute_result"
    }
   ],
   "source": [
    "# 4.4 Column Check\n",
    "arlington_df.columns"
   ]
  },
  {
   "cell_type": "code",
   "execution_count": 16,
   "id": "b0aa8e45-6562-4583-abe6-3ba3aec92aa1",
   "metadata": {},
   "outputs": [
    {
     "data": {
      "text/html": [
       "<div>\n",
       "<style scoped>\n",
       "    .dataframe tbody tr th:only-of-type {\n",
       "        vertical-align: middle;\n",
       "    }\n",
       "\n",
       "    .dataframe tbody tr th {\n",
       "        vertical-align: top;\n",
       "    }\n",
       "\n",
       "    .dataframe thead th {\n",
       "        text-align: right;\n",
       "    }\n",
       "</style>\n",
       "<table border=\"1\" class=\"dataframe\">\n",
       "  <thead>\n",
       "    <tr style=\"text-align: right;\">\n",
       "      <th></th>\n",
       "      <th>RegionID</th>\n",
       "      <th>RegionName</th>\n",
       "      <th>State</th>\n",
       "      <th>Metro</th>\n",
       "      <th>CountyName</th>\n",
       "      <th>SizeRank</th>\n",
       "      <th>1996-04</th>\n",
       "      <th>1996-05</th>\n",
       "      <th>1996-06</th>\n",
       "      <th>1996-07</th>\n",
       "      <th>...</th>\n",
       "      <th>2015-11</th>\n",
       "      <th>2015-12</th>\n",
       "      <th>2016-01</th>\n",
       "      <th>2016-02</th>\n",
       "      <th>2016-03</th>\n",
       "      <th>2016-04</th>\n",
       "      <th>2016-05</th>\n",
       "      <th>2016-06</th>\n",
       "      <th>2016-07</th>\n",
       "      <th>2016-08</th>\n",
       "    </tr>\n",
       "  </thead>\n",
       "  <tbody>\n",
       "    <tr>\n",
       "      <th>95</th>\n",
       "      <td>30258</td>\n",
       "      <td>Arlington</td>\n",
       "      <td>VA</td>\n",
       "      <td>Washington</td>\n",
       "      <td>Arlington</td>\n",
       "      <td>96</td>\n",
       "      <td>186600.0</td>\n",
       "      <td>185000.0</td>\n",
       "      <td>184400.0</td>\n",
       "      <td>183800.0</td>\n",
       "      <td>...</td>\n",
       "      <td>617200</td>\n",
       "      <td>618100</td>\n",
       "      <td>619600</td>\n",
       "      <td>622400</td>\n",
       "      <td>625900</td>\n",
       "      <td>626900</td>\n",
       "      <td>625700</td>\n",
       "      <td>624700</td>\n",
       "      <td>624800</td>\n",
       "      <td>625200</td>\n",
       "    </tr>\n",
       "  </tbody>\n",
       "</table>\n",
       "<p>1 rows × 251 columns</p>\n",
       "</div>"
      ],
      "text/plain": [
       "    RegionID RegionName State       Metro CountyName  SizeRank   1996-04  \\\n",
       "95     30258  Arlington    VA  Washington  Arlington        96  186600.0   \n",
       "\n",
       "     1996-05   1996-06   1996-07  ...  2015-11  2015-12  2016-01  2016-02  \\\n",
       "95  185000.0  184400.0  183800.0  ...   617200   618100   619600   622400   \n",
       "\n",
       "    2016-03  2016-04  2016-05  2016-06  2016-07  2016-08  \n",
       "95   625900   626900   625700   624700   624800   625200  \n",
       "\n",
       "[1 rows x 251 columns]"
      ]
     },
     "execution_count": 16,
     "metadata": {},
     "output_type": "execute_result"
    }
   ],
   "source": [
    "# 4.5 Preview arlington_df\n",
    "arlington_df.head()"
   ]
  },
  {
   "cell_type": "markdown",
   "id": "f2d9f0c2-f011-4c4c-bdfa-4d3b4d935446",
   "metadata": {},
   "source": [
    "Now the data contains only one row with:\n",
    "\n",
    "- **Metadata**: RegionID, RegionName, State, Metro, CountyName, SizeRank\n",
    "\n",
    "- **Price per month**: from 1996-04 to 2016-08\n",
    "\n",
    "In the following steps, we are going to:\n",
    "\n",
    "- **Remove** unnecessary columns (e.g., RegionID, State, Metro).\n",
    "\n",
    "- **Convert** the dates 1996-04, 1996-05, etc. into a Date column\n",
    "\n",
    "- **Create** a corresponding Price column\n",
    "\n",
    "Finally, we will obtain a simple DataFrame: [Date, Price]."
   ]
  },
  {
   "cell_type": "code",
   "execution_count": 18,
   "id": "c6d46dd7-866d-4a4a-af68-b7280e9d0d85",
   "metadata": {},
   "outputs": [],
   "source": [
    "# 4.6 Restructuring the DataFrame\n",
    "\n",
    "# 4.6.1 Remove unnecessary columns (e.g., RegionID, State, Metro)\n",
    "arlington_df = arlington_df.drop(columns=['RegionID', 'SizeRank', 'State', 'Metro', 'CountyName'], errors='ignore')\n",
    "\n",
    "# 4.6.2 Transpose using 'RegionName' as index\n",
    "arlington_df = arlington_df.set_index('RegionName').T.reset_index()\n",
    "\n",
    "# 4.6.3 Rename columns\n",
    "arlington_df.columns = ['Date', 'Price']\n",
    "\n",
    "# 4.6.4 Convert 'Date' to datetime\n",
    "arlington_df['Date'] = pd.to_datetime(arlington_df['Date'], format='%Y-%m')\n",
    "\n",
    "# 4.6.5 Delete lines where the price is missing\n",
    "arlington_df = arlington_df.dropna()\n"
   ]
  },
  {
   "cell_type": "code",
   "execution_count": 19,
   "id": "5ad64842-9b87-4172-ba14-0f20aee1f242",
   "metadata": {},
   "outputs": [
    {
     "data": {
      "text/plain": [
       "Date     0\n",
       "Price    0\n",
       "dtype: int64"
      ]
     },
     "execution_count": 19,
     "metadata": {},
     "output_type": "execute_result"
    }
   ],
   "source": [
    "#4.7 Re-check missing values\n",
    "arlington_df.isnull().sum()"
   ]
  },
  {
   "cell_type": "code",
   "execution_count": 20,
   "id": "457b24be-ecbf-463c-86ff-02f7a3ca1eae",
   "metadata": {},
   "outputs": [
    {
     "name": "stdout",
     "output_type": "stream",
     "text": [
      "Cleaned and restructured data for Arlington:\n"
     ]
    },
    {
     "data": {
      "text/html": [
       "<div>\n",
       "<style scoped>\n",
       "    .dataframe tbody tr th:only-of-type {\n",
       "        vertical-align: middle;\n",
       "    }\n",
       "\n",
       "    .dataframe tbody tr th {\n",
       "        vertical-align: top;\n",
       "    }\n",
       "\n",
       "    .dataframe thead th {\n",
       "        text-align: right;\n",
       "    }\n",
       "</style>\n",
       "<table border=\"1\" class=\"dataframe\">\n",
       "  <thead>\n",
       "    <tr style=\"text-align: right;\">\n",
       "      <th></th>\n",
       "      <th>Date</th>\n",
       "      <th>Price</th>\n",
       "    </tr>\n",
       "  </thead>\n",
       "  <tbody>\n",
       "    <tr>\n",
       "      <th>0</th>\n",
       "      <td>1996-04-01</td>\n",
       "      <td>186600.0</td>\n",
       "    </tr>\n",
       "    <tr>\n",
       "      <th>1</th>\n",
       "      <td>1996-05-01</td>\n",
       "      <td>185000.0</td>\n",
       "    </tr>\n",
       "    <tr>\n",
       "      <th>2</th>\n",
       "      <td>1996-06-01</td>\n",
       "      <td>184400.0</td>\n",
       "    </tr>\n",
       "    <tr>\n",
       "      <th>3</th>\n",
       "      <td>1996-07-01</td>\n",
       "      <td>183800.0</td>\n",
       "    </tr>\n",
       "    <tr>\n",
       "      <th>4</th>\n",
       "      <td>1996-08-01</td>\n",
       "      <td>183300.0</td>\n",
       "    </tr>\n",
       "  </tbody>\n",
       "</table>\n",
       "</div>"
      ],
      "text/plain": [
       "        Date     Price\n",
       "0 1996-04-01  186600.0\n",
       "1 1996-05-01  185000.0\n",
       "2 1996-06-01  184400.0\n",
       "3 1996-07-01  183800.0\n",
       "4 1996-08-01  183300.0"
      ]
     },
     "execution_count": 20,
     "metadata": {},
     "output_type": "execute_result"
    }
   ],
   "source": [
    "print(\"Cleaned and restructured data for Arlington:\")\n",
    "\n",
    "arlington_df.head()"
   ]
  },
  {
   "cell_type": "code",
   "execution_count": 21,
   "id": "c0999c8c",
   "metadata": {},
   "outputs": [
    {
     "name": "stdout",
     "output_type": "stream",
     "text": [
      "Descriptive statistics of housing prices in Arlington:\n"
     ]
    },
    {
     "data": {
      "text/plain": [
       "count       245.000000\n",
       "mean     429494.285714\n",
       "std      152912.510505\n",
       "min      181300.000000\n",
       "25%      263400.000000\n",
       "50%      506300.000000\n",
       "75%      545700.000000\n",
       "max      626900.000000\n",
       "Name: Price, dtype: float64"
      ]
     },
     "execution_count": 21,
     "metadata": {},
     "output_type": "execute_result"
    }
   ],
   "source": [
    "# 4.8 Summary statistics\n",
    "\n",
    "print(\"Descriptive statistics of housing prices in Arlington:\")\n",
    "arlington_df['Price'].describe()\n"
   ]
  },
  {
   "cell_type": "code",
   "execution_count": 22,
   "id": "2f7219fd",
   "metadata": {},
   "outputs": [
    {
     "data": {
      "image/png": "[encoded data removed]",
      "text/plain": [
       "<Figure size 1200x600 with 1 Axes>"
      ]
     },
     "metadata": {},
     "output_type": "display_data"
    }
   ],
   "source": [
    "# 4.9 First Graphical Overview\n",
    "\n",
    "plt.figure(figsize=(12,6))\n",
    "plt.plot(arlington_df['Date'], arlington_df['Price'])\n",
    "plt.title(\"Average Housing Price Evolution in Arlington (1996-2016)\", fontsize=16)\n",
    "plt.xlabel(\"Date\")\n",
    "plt.ylabel(\"Price in $USD\")\n",
    "plt.grid(True)\n",
    "plt.show()\n"
   ]
  },
  {
   "cell_type": "markdown",
   "id": "02a3dc98",
   "metadata": {},
   "source": [
    "This concludes the first step: Data Processing. The next step is Exploratory Data Analysis (EDA)."
   ]
  },
  {
   "cell_type": "code",
   "execution_count": null,
   "id": "b77572a1-88c5-40c4-b352-cce099bf9cb5",
   "metadata": {},
   "outputs": [],
   "source": []
  },
  {
   "cell_type": "markdown",
   "id": "d24b4b5c",
   "metadata": {},
   "source": [
    "## Conclusion and Next Steps\n",
    "\n",
    "From our preliminary wrangling and visual exploration:\n",
    "\n",
    "- Arlington shows a general upward trend in housing prices over the years.\n",
    "- There may be seasonal fluctuations worth deeper investigation.\n",
    "\n",
    "### Next Steps:\n",
    "- Develop predictive models (e.g., time series or regression)\n",
    "- Incorporate additional features (e.g., economic indicators, neighborhood-level variables)\n",
    "- Compare with surrounding regions for contextual insight\n"
   ]
  }
 ],
 "metadata": {
  "kernelspec": {
   "display_name": "Python [conda env:base] *",
   "language": "python",
   "name": "conda-base-py"
  },
  "language_info": {
   "codemirror_mode": {
    "name": "ipython",
    "version": 3
   },
   "file_extension": ".py",
   "mimetype": "text/x-python",
   "name": "python",
   "nbconvert_exporter": "python",
   "pygments_lexer": "ipython3",
   "version": "3.12.3"
  }
 },
 "nbformat": 4,
 "nbformat_minor": 5
}
